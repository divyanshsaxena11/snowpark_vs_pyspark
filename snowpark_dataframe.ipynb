{
 "cells": [
  {
   "cell_type": "markdown",
   "metadata": {},
   "source": [
    "install snowpark and connection\n",
    "\n",
    "install notebook anaconda"
   ]
  },
  {
   "cell_type": "code",
   "execution_count": 1,
   "metadata": {},
   "outputs": [],
   "source": [
    "from snowflake.snowpark import Session\n",
    "session = Session.builder.config('local_testing',True).create()"
   ]
  },
  {
   "cell_type": "code",
   "execution_count": 2,
   "metadata": {},
   "outputs": [],
   "source": [
    "#creating sample data\n",
    "\n",
    "data = [\n",
    "    ('DIVYANSH', 'KPMG',26),\n",
    "    ('PIYUSH', 'INFY',37),\n",
    "    ('ROHAN', 'TCS',44),\n",
    "    ('LEO', 'EY',29),\n",
    "    ('SACHIN', 'IBM',34),\n",
    "    ('MOHIT', 'IBM',24),\n",
    "    ('KARAN', 'KPMG',54),        \n",
    "]\n",
    "schema = ['Name','Org','Age']"
   ]
  },
  {
   "cell_type": "code",
   "execution_count": 3,
   "metadata": {},
   "outputs": [
    {
     "name": "stdout",
     "output_type": "stream",
     "text": [
      "----------------------------\n",
      "|\"NAME\"    |\"ORG\"  |\"AGE\"  |\n",
      "----------------------------\n",
      "|DIVYANSH  |KPMG   |26     |\n",
      "|PIYUSH    |INFY   |37     |\n",
      "|ROHAN     |TCS    |44     |\n",
      "|LEO       |EY     |29     |\n",
      "|SACHIN    |IBM    |34     |\n",
      "|MOHIT     |IBM    |24     |\n",
      "|KARAN     |KPMG   |54     |\n",
      "----------------------------\n",
      "\n"
     ]
    }
   ],
   "source": [
    "df = session.createDataFrame(data,schema)\n",
    "df.show()"
   ]
  },
  {
   "cell_type": "code",
   "execution_count": 4,
   "metadata": {},
   "outputs": [
    {
     "name": "stdout",
     "output_type": "stream",
     "text": [
      "----------------------------\n",
      "|\"NAME\"    |\"ORG\"  |\"AGE\"  |\n",
      "----------------------------\n",
      "|DIVYANSH  |KPMG   |26     |\n",
      "|PIYUSH    |INFY   |37     |\n",
      "|ROHAN     |TCS    |44     |\n",
      "|LEO       |EY     |29     |\n",
      "|SACHIN    |IBM    |34     |\n",
      "|MOHIT     |IBM    |24     |\n",
      "|KARAN     |KPMG   |54     |\n",
      "----------------------------\n",
      "\n"
     ]
    }
   ],
   "source": [
    "from snowflake.snowpark.functions import col\n",
    "\n",
    "df.select(df.name,\n",
    "          df['org'],\n",
    "          col('age')\n",
    "          ).show()"
   ]
  },
  {
   "cell_type": "code",
   "execution_count": 5,
   "metadata": {},
   "outputs": [
    {
     "name": "stdout",
     "output_type": "stream",
     "text": [
      "---------------------------------------\n",
      "|\"NAME\"    |\"ORG\"  |\"AGE\"  |\"GENDER\"  |\n",
      "---------------------------------------\n",
      "|DIVYANSH  |KPMG   |26     |NA        |\n",
      "|PIYUSH    |INFY   |37     |NA        |\n",
      "|ROHAN     |TCS    |44     |NA        |\n",
      "|LEO       |EY     |29     |NA        |\n",
      "|SACHIN    |IBM    |34     |NA        |\n",
      "|MOHIT     |IBM    |24     |NA        |\n",
      "|KARAN     |KPMG   |54     |NA        |\n",
      "---------------------------------------\n",
      "\n"
     ]
    }
   ],
   "source": [
    "from snowflake.snowpark.functions import lit\n",
    "df.withColumn('Gender',lit('NA')).show()"
   ]
  },
  {
   "cell_type": "code",
   "execution_count": 6,
   "metadata": {},
   "outputs": [
    {
     "name": "stdout",
     "output_type": "stream",
     "text": [
      "--------------------------\n",
      "|\"NAME\"  |\"ORG\"  |\"AGE\"  |\n",
      "--------------------------\n",
      "|PIYUSH  |INFY   |37     |\n",
      "|SACHIN  |IBM    |34     |\n",
      "--------------------------\n",
      "\n"
     ]
    }
   ],
   "source": [
    "df.filter(\n",
    "    (df.Age > 30 )\n",
    "      & \n",
    "    ( df.Age < 40)\n",
    "    ).show()"
   ]
  },
  {
   "cell_type": "code",
   "execution_count": 7,
   "metadata": {},
   "outputs": [
    {
     "name": "stdout",
     "output_type": "stream",
     "text": [
      "----------------------------\n",
      "|\"NAME\"    |\"ORG\"  |\"AGE\"  |\n",
      "----------------------------\n",
      "|MOHIT     |IBM    |24     |\n",
      "|DIVYANSH  |KPMG   |26     |\n",
      "|LEO       |EY     |29     |\n",
      "|SACHIN    |IBM    |34     |\n",
      "|PIYUSH    |INFY   |37     |\n",
      "|ROHAN     |TCS    |44     |\n",
      "|KARAN     |KPMG   |54     |\n",
      "----------------------------\n",
      "\n"
     ]
    }
   ],
   "source": [
    "df.orderBy(df['Age']).show()"
   ]
  },
  {
   "cell_type": "code",
   "execution_count": 8,
   "metadata": {},
   "outputs": [
    {
     "name": "stdout",
     "output_type": "stream",
     "text": [
      "----------------------\n",
      "|\"ORG\"  |\"MAX(AGE)\"  |\n",
      "----------------------\n",
      "|KPMG   |54          |\n",
      "|INFY   |37          |\n",
      "|TCS    |44          |\n",
      "|EY     |29          |\n",
      "|IBM    |34          |\n",
      "----------------------\n",
      "\n"
     ]
    }
   ],
   "source": [
    "df.groupBy('Org').agg({'Age':'max'}).show()"
   ]
  },
  {
   "cell_type": "code",
   "execution_count": 9,
   "metadata": {},
   "outputs": [
    {
     "name": "stderr",
     "output_type": "stream",
     "text": [
      "[Local Testing] read file option INFER_SCHEMA is not supported.\n"
     ]
    },
    {
     "name": "stdout",
     "output_type": "stream",
     "text": [
      "----------------------------------------------------------------------------------------------------------------------------------------------\n",
      "|\"NAME\"         |\"ID\"                    |\"GENDER\"  |\"AGE\"  |\"COUNTRY\"  |\"POPULARITY\"  |\"FOLLOWERS\"  |\"URI\"                                  |\n",
      "----------------------------------------------------------------------------------------------------------------------------------------------\n",
      "|Drake          |3TVXtAsR1Inumwj472S9r4  |male      |33     |CA         |95            |83298497     |spotify:artist:3TVXtAsR1Inumwj472S9r4  |\n",
      "|Post Malone    |246dkjvS1zLTtiykXe5h60  |male      |25     |US         |86            |43130108     |spotify:artist:246dkjvS1zLTtiykXe5h60  |\n",
      "|Ed Sheeran     |6eUKZXaKkcviH0Ku9w2n3V  |male      |29     |GB         |87            |115998928    |spotify:artist:6eUKZXaKkcviH0Ku9w2n3V  |\n",
      "|J Balvin       |1vyhD5VmyZ7KMfW5gqLgo5  |male      |35     |CO         |83            |38028010     |spotify:artist:1vyhD5VmyZ7KMfW5gqLgo5  |\n",
      "|Bad Bunny      |4q3ewBCX7sLwd24euuV69X  |male      |26     |PR         |95            |77931484     |spotify:artist:4q3ewBCX7sLwd24euuV69X  |\n",
      "|Justin Bieber  |1uNFoZAHBGtllmzznpCI3s  |male      |26     |CA         |88            |75112165     |spotify:artist:1uNFoZAHBGtllmzznpCI3s  |\n",
      "|Ozuna          |1i8SpTcr7yvPOmcqrbnVXY  |male      |28     |PR         |84            |38192380     |spotify:artist:1i8SpTcr7yvPOmcqrbnVXY  |\n",
      "|Ariana Grande  |66CXWjxzNUsdJxJ2JdwvnR  |female    |27     |US         |88            |95710972     |spotify:artist:66CXWjxzNUsdJxJ2JdwvnR  |\n",
      "|Khalid         |6LuN9FCkKOj5PcnpouEgny  |male      |22     |US         |81            |16282583     |spotify:artist:6LuN9FCkKOj5PcnpouEgny  |\n",
      "|Daddy Yankee   |4VMYDCV2IEDYJArk749S6m  |male      |43     |PR         |84            |34243502     |spotify:artist:4VMYDCV2IEDYJArk749S6m  |\n",
      "----------------------------------------------------------------------------------------------------------------------------------------------\n",
      "\n"
     ]
    },
    {
     "name": "stderr",
     "output_type": "stream",
     "text": [
      "c:\\Users\\divya\\anaconda3\\envs\\py310_env\\lib\\site-packages\\snowflake\\snowpark\\mock\\_file_operation.py:175: ParserWarning: Both a converter and dtype were specified for column None - only the converter will be used.\n",
      "  df = pd.read_csv(\n"
     ]
    }
   ],
   "source": [
    "from snowflake.snowpark.types import StructField, StructType, IntegerType,StringType\n",
    "session.file.put(local_file_name='Artists.csv',stage_location='@mylocalstage',auto_compress=False)\n",
    "#df_csv = session.read.options({}).schema(schema=schema).csv('@mylocalstage/Artists.csv')\n",
    "\n",
    "schema = StructType([\n",
    "    StructField('Name',StringType(),True),\n",
    "    StructField('ID',StringType(),True),\n",
    "    StructField('Gender',StringType(),True),\n",
    "    StructField('Age',IntegerType(),True),    \n",
    "    StructField('Country',StringType(),True),\n",
    "    StructField('Popularity',IntegerType(),True),    \n",
    "    StructField('Followers',IntegerType(),True),    \n",
    "    StructField('URI',StringType(),True),    \n",
    "])\n",
    "\n",
    "df_csv2 = session.read.options({'skip_header':1,\n",
    "                                'field_optionally_enclosed_by':'\"'}\n",
    "                                ).schema(schema).csv('@mylocalstage/Artists.csv')\n",
    "df_csv2.show()"
   ]
  },
  {
   "cell_type": "code",
   "execution_count": 12,
   "metadata": {},
   "outputs": [
    {
     "name": "stderr",
     "output_type": "stream",
     "text": [
      "[Local Testing] read file option INFER_SCHEMA is not supported.\n",
      "c:\\Users\\divya\\anaconda3\\envs\\py310_env\\lib\\site-packages\\snowflake\\snowpark\\mock\\_file_operation.py:175: ParserWarning: Both a converter and dtype were specified for column None - only the converter will be used.\n",
      "  df = pd.read_csv(\n",
      "[Local Testing] read file option INFER_SCHEMA is not supported.\n",
      "c:\\Users\\divya\\anaconda3\\envs\\py310_env\\lib\\site-packages\\snowflake\\snowpark\\mock\\_file_operation.py:175: ParserWarning: Both a converter and dtype were specified for column None - only the converter will be used.\n",
      "  df = pd.read_csv(\n",
      "[Local Testing] read file option INFER_SCHEMA is not supported.\n"
     ]
    },
    {
     "name": "stdout",
     "output_type": "stream",
     "text": [
      "----------------------------------------------------------------------------------------------------------------------------------------------\n",
      "|\"Artist Name\"  |\"U_ID\"                  |\"GENDER\"  |\"AGE\"  |\"COUNTRY\"  |\"POPULARITY\"  |\"FOLLOWERS\"  |\"URI\"                                  |\n",
      "----------------------------------------------------------------------------------------------------------------------------------------------\n",
      "|Drake          |3TVXtAsR1Inumwj472S9r4  |male      |33     |CA         |95            |83298497     |spotify:artist:3TVXtAsR1Inumwj472S9r4  |\n",
      "|Post Malone    |246dkjvS1zLTtiykXe5h60  |male      |25     |US         |86            |43130108     |spotify:artist:246dkjvS1zLTtiykXe5h60  |\n",
      "|Ed Sheeran     |6eUKZXaKkcviH0Ku9w2n3V  |male      |29     |GB         |87            |115998928    |spotify:artist:6eUKZXaKkcviH0Ku9w2n3V  |\n",
      "|J Balvin       |1vyhD5VmyZ7KMfW5gqLgo5  |male      |35     |CO         |83            |38028010     |spotify:artist:1vyhD5VmyZ7KMfW5gqLgo5  |\n",
      "|Bad Bunny      |4q3ewBCX7sLwd24euuV69X  |male      |26     |PR         |95            |77931484     |spotify:artist:4q3ewBCX7sLwd24euuV69X  |\n",
      "|Justin Bieber  |1uNFoZAHBGtllmzznpCI3s  |male      |26     |CA         |88            |75112165     |spotify:artist:1uNFoZAHBGtllmzznpCI3s  |\n",
      "|Ozuna          |1i8SpTcr7yvPOmcqrbnVXY  |male      |28     |PR         |84            |38192380     |spotify:artist:1i8SpTcr7yvPOmcqrbnVXY  |\n",
      "|Ariana Grande  |66CXWjxzNUsdJxJ2JdwvnR  |female    |27     |US         |88            |95710972     |spotify:artist:66CXWjxzNUsdJxJ2JdwvnR  |\n",
      "|Khalid         |6LuN9FCkKOj5PcnpouEgny  |male      |22     |US         |81            |16282583     |spotify:artist:6LuN9FCkKOj5PcnpouEgny  |\n",
      "|Daddy Yankee   |4VMYDCV2IEDYJArk749S6m  |male      |43     |PR         |84            |34243502     |spotify:artist:4VMYDCV2IEDYJArk749S6m  |\n",
      "----------------------------------------------------------------------------------------------------------------------------------------------\n",
      "\n"
     ]
    },
    {
     "name": "stderr",
     "output_type": "stream",
     "text": [
      "c:\\Users\\divya\\anaconda3\\envs\\py310_env\\lib\\site-packages\\snowflake\\snowpark\\mock\\_file_operation.py:175: ParserWarning: Both a converter and dtype were specified for column None - only the converter will be used.\n",
      "  df = pd.read_csv(\n"
     ]
    }
   ],
   "source": [
    "df_csv2.withColumnRenamed('Name','Artist Name').withColumnRenamed('ID','U_ID').show()"
   ]
  },
  {
   "cell_type": "code",
   "execution_count": 13,
   "metadata": {},
   "outputs": [
    {
     "name": "stderr",
     "output_type": "stream",
     "text": [
      "[Local Testing] read file option INFER_SCHEMA is not supported.\n"
     ]
    },
    {
     "name": "stdout",
     "output_type": "stream",
     "text": [
      "------------------------------------------------------------------------------------------------------\n",
      "|\"NAME\"         |\"ID\"                    |\"GENDER\"  |\"AGE\"  |\"COUNTRY\"  |\"POPULARITY\"  |\"FOLLOWERS\"  |\n",
      "------------------------------------------------------------------------------------------------------\n",
      "|Drake          |3TVXtAsR1Inumwj472S9r4  |male      |33     |CA         |95            |83298497     |\n",
      "|Post Malone    |246dkjvS1zLTtiykXe5h60  |male      |25     |US         |86            |43130108     |\n",
      "|Ed Sheeran     |6eUKZXaKkcviH0Ku9w2n3V  |male      |29     |GB         |87            |115998928    |\n",
      "|J Balvin       |1vyhD5VmyZ7KMfW5gqLgo5  |male      |35     |CO         |83            |38028010     |\n",
      "|Bad Bunny      |4q3ewBCX7sLwd24euuV69X  |male      |26     |PR         |95            |77931484     |\n",
      "|Justin Bieber  |1uNFoZAHBGtllmzznpCI3s  |male      |26     |CA         |88            |75112165     |\n",
      "|Ozuna          |1i8SpTcr7yvPOmcqrbnVXY  |male      |28     |PR         |84            |38192380     |\n",
      "|Ariana Grande  |66CXWjxzNUsdJxJ2JdwvnR  |female    |27     |US         |88            |95710972     |\n",
      "|Khalid         |6LuN9FCkKOj5PcnpouEgny  |male      |22     |US         |81            |16282583     |\n",
      "|Daddy Yankee   |4VMYDCV2IEDYJArk749S6m  |male      |43     |PR         |84            |34243502     |\n",
      "------------------------------------------------------------------------------------------------------\n",
      "\n"
     ]
    },
    {
     "name": "stderr",
     "output_type": "stream",
     "text": [
      "c:\\Users\\divya\\anaconda3\\envs\\py310_env\\lib\\site-packages\\snowflake\\snowpark\\mock\\_file_operation.py:175: ParserWarning: Both a converter and dtype were specified for column None - only the converter will be used.\n",
      "  df = pd.read_csv(\n"
     ]
    }
   ],
   "source": [
    "df_csv2.drop(\"URI\").show()"
   ]
  },
  {
   "cell_type": "code",
   "execution_count": 14,
   "metadata": {},
   "outputs": [
    {
     "name": "stderr",
     "output_type": "stream",
     "text": [
      "[Local Testing] read file option INFER_SCHEMA is not supported.\n",
      "c:\\Users\\divya\\anaconda3\\envs\\py310_env\\lib\\site-packages\\snowflake\\snowpark\\mock\\_file_operation.py:175: ParserWarning: Both a converter and dtype were specified for column None - only the converter will be used.\n",
      "  df = pd.read_csv(\n"
     ]
    },
    {
     "data": {
      "text/plain": [
       "0"
      ]
     },
     "execution_count": 14,
     "metadata": {},
     "output_type": "execute_result"
    }
   ],
   "source": [
    "df_csv2.filter(df_csv2.Age.isNull()).count()"
   ]
  },
  {
   "cell_type": "code",
   "execution_count": 19,
   "metadata": {},
   "outputs": [
    {
     "name": "stderr",
     "output_type": "stream",
     "text": [
      "[Local Testing] read file option INFER_SCHEMA is not supported.\n",
      "c:\\Users\\divya\\anaconda3\\envs\\py310_env\\lib\\site-packages\\snowflake\\snowpark\\mock\\_file_operation.py:175: ParserWarning: Both a converter and dtype were specified for column None - only the converter will be used.\n",
      "  df = pd.read_csv(\n"
     ]
    },
    {
     "ename": "NotImplementedError",
     "evalue": "[Local Testing] `Session.sql` is currently not supported.",
     "output_type": "error",
     "traceback": [
      "\u001b[1;31m---------------------------------------------------------------------------\u001b[0m",
      "\u001b[1;31mNotImplementedError\u001b[0m                       Traceback (most recent call last)",
      "Cell \u001b[1;32mIn[19], line 2\u001b[0m\n\u001b[0;32m      1\u001b[0m df_csv2\u001b[38;5;241m.\u001b[39mcreateOrReplaceTempView(\u001b[38;5;124m'\u001b[39m\u001b[38;5;124mtemp_data\u001b[39m\u001b[38;5;124m'\u001b[39m)\n\u001b[1;32m----> 2\u001b[0m \u001b[43msession\u001b[49m\u001b[38;5;241;43m.\u001b[39;49m\u001b[43msql\u001b[49m\u001b[43m(\u001b[49m\u001b[38;5;124;43m'\u001b[39;49m\u001b[38;5;124;43mselect * from temp_data\u001b[39;49m\u001b[38;5;124;43m'\u001b[39;49m\u001b[43m)\u001b[49m\u001b[38;5;241m.\u001b[39mshow()\n",
      "File \u001b[1;32mc:\\Users\\divya\\anaconda3\\envs\\py310_env\\lib\\site-packages\\snowflake\\snowpark\\session.py:1924\u001b[0m, in \u001b[0;36mSession.sql\u001b[1;34m(self, query, params)\u001b[0m\n\u001b[0;32m   1901\u001b[0m \u001b[38;5;250m\u001b[39m\u001b[38;5;124;03m\"\"\"\u001b[39;00m\n\u001b[0;32m   1902\u001b[0m \u001b[38;5;124;03mReturns a new DataFrame representing the results of a SQL query.\u001b[39;00m\n\u001b[0;32m   1903\u001b[0m \u001b[38;5;124;03mYou can use this method to execute a SQL statement. Note that you still\u001b[39;00m\n\u001b[1;32m   (...)\u001b[0m\n\u001b[0;32m   1921\u001b[0m \u001b[38;5;124;03m    [Row(COLUMN1=1, COLUMN2='a'), Row(COLUMN1=2, COLUMN2='b')]\u001b[39;00m\n\u001b[0;32m   1922\u001b[0m \u001b[38;5;124;03m\"\"\"\u001b[39;00m\n\u001b[0;32m   1923\u001b[0m \u001b[38;5;28;01mif\u001b[39;00m \u001b[38;5;28misinstance\u001b[39m(\u001b[38;5;28mself\u001b[39m\u001b[38;5;241m.\u001b[39m_conn, MockServerConnection):\n\u001b[1;32m-> 1924\u001b[0m     \u001b[38;5;28;01mraise\u001b[39;00m \u001b[38;5;167;01mNotImplementedError\u001b[39;00m(\n\u001b[0;32m   1925\u001b[0m         \u001b[38;5;124m\"\u001b[39m\u001b[38;5;124m[Local Testing] `Session.sql` is currently not supported.\u001b[39m\u001b[38;5;124m\"\u001b[39m\n\u001b[0;32m   1926\u001b[0m     )\n\u001b[0;32m   1928\u001b[0m \u001b[38;5;28;01mif\u001b[39;00m \u001b[38;5;28mself\u001b[39m\u001b[38;5;241m.\u001b[39msql_simplifier_enabled:\n\u001b[0;32m   1929\u001b[0m     d \u001b[38;5;241m=\u001b[39m DataFrame(\n\u001b[0;32m   1930\u001b[0m         \u001b[38;5;28mself\u001b[39m,\n\u001b[0;32m   1931\u001b[0m         \u001b[38;5;28mself\u001b[39m\u001b[38;5;241m.\u001b[39m_analyzer\u001b[38;5;241m.\u001b[39mcreate_select_statement(\n\u001b[1;32m   (...)\u001b[0m\n\u001b[0;32m   1934\u001b[0m         ),\n\u001b[0;32m   1935\u001b[0m     )\n",
      "\u001b[1;31mNotImplementedError\u001b[0m: [Local Testing] `Session.sql` is currently not supported."
     ]
    }
   ],
   "source": [
    "# Currently Session.sql is not supported\n",
    "df_csv2.createOrReplaceTempView('temp_data')\n",
    "session.sql('select * from temp_data').show()"
   ]
  },
  {
   "cell_type": "code",
   "execution_count": 34,
   "metadata": {},
   "outputs": [
    {
     "name": "stderr",
     "output_type": "stream",
     "text": [
      "[Local Testing] read file option INFER_SCHEMA is not supported.\n",
      "c:\\Users\\divya\\anaconda3\\envs\\py310_env\\lib\\site-packages\\snowflake\\snowpark\\mock\\_file_operation.py:175: ParserWarning: Both a converter and dtype were specified for column None - only the converter will be used.\n",
      "  df = pd.read_csv(\n",
      "[Local Testing] read file option INFER_SCHEMA is not supported.\n"
     ]
    },
    {
     "name": "stdout",
     "output_type": "stream",
     "text": [
      "-----------------------------------------------------------------------------------------------------------------------------------------------------------------------------------------------------------------------------------------------------------------------------------------------------------------------------------------------------------------\n",
      "|\"l_fghf_NAME\"  |\"l_fghf_ID\"             |\"l_fghf_GENDER\"  |\"l_fghf_AGE\"  |\"l_fghf_COUNTRY\"  |\"l_fghf_POPULARITY\"  |\"l_fghf_FOLLOWERS\"  |\"l_fghf_URI\"                           |\"r_5m1p_NAME\"  |\"r_5m1p_ID\"             |\"r_5m1p_GENDER\"  |\"r_5m1p_AGE\"  |\"r_5m1p_COUNTRY\"  |\"r_5m1p_POPULARITY\"  |\"r_5m1p_FOLLOWERS\"  |\"r_5m1p_URI\"                           |\n",
      "-----------------------------------------------------------------------------------------------------------------------------------------------------------------------------------------------------------------------------------------------------------------------------------------------------------------------------------------------------------------\n",
      "|Drake          |3TVXtAsR1Inumwj472S9r4  |male             |33            |CA                |95                   |83298497            |spotify:artist:3TVXtAsR1Inumwj472S9r4  |Drake          |3TVXtAsR1Inumwj472S9r4  |male             |33            |CA                |95                   |83298497            |spotify:artist:3TVXtAsR1Inumwj472S9r4  |\n",
      "|Post Malone    |246dkjvS1zLTtiykXe5h60  |male             |25            |US                |86                   |43130108            |spotify:artist:246dkjvS1zLTtiykXe5h60  |Post Malone    |246dkjvS1zLTtiykXe5h60  |male             |25            |US                |86                   |43130108            |spotify:artist:246dkjvS1zLTtiykXe5h60  |\n",
      "|Ed Sheeran     |6eUKZXaKkcviH0Ku9w2n3V  |male             |29            |GB                |87                   |115998928           |spotify:artist:6eUKZXaKkcviH0Ku9w2n3V  |Ed Sheeran     |6eUKZXaKkcviH0Ku9w2n3V  |male             |29            |GB                |87                   |115998928           |spotify:artist:6eUKZXaKkcviH0Ku9w2n3V  |\n",
      "|J Balvin       |1vyhD5VmyZ7KMfW5gqLgo5  |male             |35            |CO                |83                   |38028010            |spotify:artist:1vyhD5VmyZ7KMfW5gqLgo5  |J Balvin       |1vyhD5VmyZ7KMfW5gqLgo5  |male             |35            |CO                |83                   |38028010            |spotify:artist:1vyhD5VmyZ7KMfW5gqLgo5  |\n",
      "|Bad Bunny      |4q3ewBCX7sLwd24euuV69X  |male             |26            |PR                |95                   |77931484            |spotify:artist:4q3ewBCX7sLwd24euuV69X  |Bad Bunny      |4q3ewBCX7sLwd24euuV69X  |male             |26            |PR                |95                   |77931484            |spotify:artist:4q3ewBCX7sLwd24euuV69X  |\n",
      "|Justin Bieber  |1uNFoZAHBGtllmzznpCI3s  |male             |26            |CA                |88                   |75112165            |spotify:artist:1uNFoZAHBGtllmzznpCI3s  |Justin Bieber  |1uNFoZAHBGtllmzznpCI3s  |male             |26            |CA                |88                   |75112165            |spotify:artist:1uNFoZAHBGtllmzznpCI3s  |\n",
      "|Ozuna          |1i8SpTcr7yvPOmcqrbnVXY  |male             |28            |PR                |84                   |38192380            |spotify:artist:1i8SpTcr7yvPOmcqrbnVXY  |Ozuna          |1i8SpTcr7yvPOmcqrbnVXY  |male             |28            |PR                |84                   |38192380            |spotify:artist:1i8SpTcr7yvPOmcqrbnVXY  |\n",
      "|Ariana Grande  |66CXWjxzNUsdJxJ2JdwvnR  |female           |27            |US                |88                   |95710972            |spotify:artist:66CXWjxzNUsdJxJ2JdwvnR  |Ariana Grande  |66CXWjxzNUsdJxJ2JdwvnR  |female           |27            |US                |88                   |95710972            |spotify:artist:66CXWjxzNUsdJxJ2JdwvnR  |\n",
      "|Khalid         |6LuN9FCkKOj5PcnpouEgny  |male             |22            |US                |81                   |16282583            |spotify:artist:6LuN9FCkKOj5PcnpouEgny  |Khalid         |6LuN9FCkKOj5PcnpouEgny  |male             |22            |US                |81                   |16282583            |spotify:artist:6LuN9FCkKOj5PcnpouEgny  |\n",
      "|Daddy Yankee   |4VMYDCV2IEDYJArk749S6m  |male             |43            |PR                |84                   |34243502            |spotify:artist:4VMYDCV2IEDYJArk749S6m  |Daddy Yankee   |4VMYDCV2IEDYJArk749S6m  |male             |43            |PR                |84                   |34243502            |spotify:artist:4VMYDCV2IEDYJArk749S6m  |\n",
      "-----------------------------------------------------------------------------------------------------------------------------------------------------------------------------------------------------------------------------------------------------------------------------------------------------------------------------------------------------------------\n",
      "\n"
     ]
    },
    {
     "name": "stderr",
     "output_type": "stream",
     "text": [
      "c:\\Users\\divya\\anaconda3\\envs\\py310_env\\lib\\site-packages\\snowflake\\snowpark\\mock\\_file_operation.py:175: ParserWarning: Both a converter and dtype were specified for column None - only the converter will be used.\n",
      "  df = pd.read_csv(\n"
     ]
    }
   ],
   "source": [
    "#You cannot join a DataFrame with itself because the column references cannot\n",
    "# be resolved correctly.\n",
    "#df_join = df_csv2.join(df_csv2, df_csv2[\"ID\"] == df_csv2[\"ID\"], \"inner\")\n",
    "\n",
    "from copy import copy\n",
    "df_csv3 =  copy(df_csv2)\n",
    "df_join = df_csv2.join(df_csv3, df_csv2[\"ID\"] == df_csv3[\"ID\"], \"inner\")\n",
    "df_join.show()"
   ]
  },
  {
   "cell_type": "code",
   "execution_count": 38,
   "metadata": {},
   "outputs": [
    {
     "name": "stderr",
     "output_type": "stream",
     "text": [
      "[Local Testing] read file option INFER_SCHEMA is not supported.\n",
      "c:\\Users\\divya\\anaconda3\\envs\\py310_env\\lib\\site-packages\\snowflake\\snowpark\\mock\\_file_operation.py:175: ParserWarning: Both a converter and dtype were specified for column None - only the converter will be used.\n",
      "  df = pd.read_csv(\n",
      "[Local Testing] read file option INFER_SCHEMA is not supported.\n",
      "c:\\Users\\divya\\anaconda3\\envs\\py310_env\\lib\\site-packages\\snowflake\\snowpark\\mock\\_file_operation.py:175: ParserWarning: Both a converter and dtype were specified for column None - only the converter will be used.\n",
      "  df = pd.read_csv(\n"
     ]
    },
    {
     "data": {
      "text/plain": [
       "98"
      ]
     },
     "execution_count": 38,
     "metadata": {},
     "output_type": "execute_result"
    }
   ],
   "source": [
    "df_csv3.union(df_csv2).count()"
   ]
  }
 ],
 "metadata": {
  "kernelspec": {
   "display_name": "py310_env",
   "language": "python",
   "name": "python3"
  },
  "language_info": {
   "codemirror_mode": {
    "name": "ipython",
    "version": 3
   },
   "file_extension": ".py",
   "mimetype": "text/x-python",
   "name": "python",
   "nbconvert_exporter": "python",
   "pygments_lexer": "ipython3",
   "version": "3.10.13"
  }
 },
 "nbformat": 4,
 "nbformat_minor": 2
}
