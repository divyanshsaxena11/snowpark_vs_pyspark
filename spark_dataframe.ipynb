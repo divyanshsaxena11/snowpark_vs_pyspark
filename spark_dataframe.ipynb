{
 "cells": [
  {
   "cell_type": "markdown",
   "metadata": {},
   "source": [
    "Install\n",
    "Java\n",
    "Apache Spark\n",
    "winutils\n",
    "\n",
    "add path for \n",
    "hadoop\n",
    "spark\n",
    "pyspark-python\n",
    "java\n",
    "\n",
    "\n"
   ]
  },
  {
   "cell_type": "code",
   "execution_count": 1,
   "metadata": {},
   "outputs": [],
   "source": [
    "from  pyspark.sql import SparkSession\n",
    "session = SparkSession.builder.appName('Divyansh_pySpark_Project').getOrCreate()"
   ]
  },
  {
   "cell_type": "code",
   "execution_count": 2,
   "metadata": {},
   "outputs": [],
   "source": [
    "#creating sample data\n",
    "\n",
    "data = [\n",
    "    ('DIVYANSH', 'KPMG',26),\n",
    "    ('PIYUSH', 'INFY',37),\n",
    "    ('ROHAN', 'TCS',44),\n",
    "    ('LEO', 'EY',29),\n",
    "    ('SACHIN', 'IBM',34),\n",
    "    ('MOHIT', 'IBM',24),\n",
    "    ('KARAN', 'KPMG',54),        \n",
    "]\n",
    "schema = ['Name','Org','Age']"
   ]
  },
  {
   "cell_type": "code",
   "execution_count": 3,
   "metadata": {},
   "outputs": [
    {
     "name": "stdout",
     "output_type": "stream",
     "text": [
      "+--------+----+---+\n",
      "|    Name| Org|Age|\n",
      "+--------+----+---+\n",
      "|DIVYANSH|KPMG| 26|\n",
      "|  PIYUSH|INFY| 37|\n",
      "|   ROHAN| TCS| 44|\n",
      "|     LEO|  EY| 29|\n",
      "|  SACHIN| IBM| 34|\n",
      "|   MOHIT| IBM| 24|\n",
      "|   KARAN|KPMG| 54|\n",
      "+--------+----+---+\n",
      "\n"
     ]
    }
   ],
   "source": [
    "df = session.createDataFrame(data,schema)\n",
    "df.show()"
   ]
  },
  {
   "cell_type": "code",
   "execution_count": 4,
   "metadata": {},
   "outputs": [
    {
     "name": "stdout",
     "output_type": "stream",
     "text": [
      "+--------+----+---+\n",
      "|    Name| Org|Age|\n",
      "+--------+----+---+\n",
      "|DIVYANSH|KPMG| 26|\n",
      "|  PIYUSH|INFY| 37|\n",
      "|   ROHAN| TCS| 44|\n",
      "|     LEO|  EY| 29|\n",
      "|  SACHIN| IBM| 34|\n",
      "|   MOHIT| IBM| 24|\n",
      "|   KARAN|KPMG| 54|\n",
      "+--------+----+---+\n",
      "\n"
     ]
    }
   ],
   "source": [
    "from pyspark.sql.functions import col\n",
    "\n",
    "df.select(df.Name,                          # case sensitive\n",
    "          df['Org'],\n",
    "          col('Age')\n",
    "          ).show()"
   ]
  },
  {
   "cell_type": "code",
   "execution_count": 5,
   "metadata": {},
   "outputs": [
    {
     "name": "stdout",
     "output_type": "stream",
     "text": [
      "+--------+----+---+------+\n",
      "|    Name| Org|Age|Gender|\n",
      "+--------+----+---+------+\n",
      "|DIVYANSH|KPMG| 26|    NA|\n",
      "|  PIYUSH|INFY| 37|    NA|\n",
      "|   ROHAN| TCS| 44|    NA|\n",
      "|     LEO|  EY| 29|    NA|\n",
      "|  SACHIN| IBM| 34|    NA|\n",
      "|   MOHIT| IBM| 24|    NA|\n",
      "|   KARAN|KPMG| 54|    NA|\n",
      "+--------+----+---+------+\n",
      "\n"
     ]
    }
   ],
   "source": [
    "from pyspark.sql.functions import lit\n",
    "df.withColumn('Gender',lit('NA')).show()"
   ]
  },
  {
   "cell_type": "code",
   "execution_count": 6,
   "metadata": {},
   "outputs": [
    {
     "name": "stdout",
     "output_type": "stream",
     "text": [
      "+------+----+---+\n",
      "|  Name| Org|Age|\n",
      "+------+----+---+\n",
      "|PIYUSH|INFY| 37|\n",
      "|SACHIN| IBM| 34|\n",
      "+------+----+---+\n",
      "\n"
     ]
    }
   ],
   "source": [
    "df.filter(\n",
    "    (df.Age > 30 )\n",
    "      & \n",
    "    ( df.Age < 40)\n",
    "    ).show()"
   ]
  },
  {
   "cell_type": "code",
   "execution_count": 7,
   "metadata": {},
   "outputs": [
    {
     "name": "stdout",
     "output_type": "stream",
     "text": [
      "+--------+----+---+\n",
      "|    Name| Org|Age|\n",
      "+--------+----+---+\n",
      "|   MOHIT| IBM| 24|\n",
      "|DIVYANSH|KPMG| 26|\n",
      "|     LEO|  EY| 29|\n",
      "|  SACHIN| IBM| 34|\n",
      "|  PIYUSH|INFY| 37|\n",
      "|   ROHAN| TCS| 44|\n",
      "|   KARAN|KPMG| 54|\n",
      "+--------+----+---+\n",
      "\n"
     ]
    }
   ],
   "source": [
    "df.orderBy(df['Age']).show()"
   ]
  },
  {
   "cell_type": "code",
   "execution_count": 8,
   "metadata": {},
   "outputs": [
    {
     "name": "stdout",
     "output_type": "stream",
     "text": [
      "+----+--------+\n",
      "| Org|max(Age)|\n",
      "+----+--------+\n",
      "|KPMG|      54|\n",
      "|INFY|      37|\n",
      "| TCS|      44|\n",
      "|  EY|      29|\n",
      "| IBM|      34|\n",
      "+----+--------+\n",
      "\n"
     ]
    }
   ],
   "source": [
    "df.groupBy('Org').agg({'Age':'max'}).show()"
   ]
  },
  {
   "cell_type": "code",
   "execution_count": 9,
   "metadata": {},
   "outputs": [
    {
     "name": "stdout",
     "output_type": "stream",
     "text": [
      "+----------------+--------------------+------+---+-------+----------+---------+--------------------+\n",
      "|            Name|                  ID|Gender|Age|Country|Popularity|Followers|                 URI|\n",
      "+----------------+--------------------+------+---+-------+----------+---------+--------------------+\n",
      "|           Drake|3TVXtAsR1Inumwj47...|  male| 33|     CA|        95| 83298497|spotify:artist:3T...|\n",
      "|     Post Malone|246dkjvS1zLTtiykX...|  male| 25|     US|        86| 43130108|spotify:artist:24...|\n",
      "|      Ed Sheeran|6eUKZXaKkcviH0Ku9...|  male| 29|     GB|        87|115998928|spotify:artist:6e...|\n",
      "|        J Balvin|1vyhD5VmyZ7KMfW5g...|  male| 35|     CO|        83| 38028010|spotify:artist:1v...|\n",
      "|       Bad Bunny|4q3ewBCX7sLwd24eu...|  male| 26|     PR|        95| 77931484|spotify:artist:4q...|\n",
      "|   Justin Bieber|1uNFoZAHBGtllmzzn...|  male| 26|     CA|        88| 75112165|spotify:artist:1u...|\n",
      "|           Ozuna|1i8SpTcr7yvPOmcqr...|  male| 28|     PR|        84| 38192380|spotify:artist:1i...|\n",
      "|   Ariana Grande|66CXWjxzNUsdJxJ2J...|female| 27|     US|        88| 95710972|spotify:artist:66...|\n",
      "|          Khalid|6LuN9FCkKOj5Pcnpo...|  male| 22|     US|        81| 16282583|spotify:artist:6L...|\n",
      "|    Daddy Yankee|4VMYDCV2IEDYJArk7...|  male| 43|     PR|        84| 34243502|spotify:artist:4V...|\n",
      "|    Travis Scott|0Y5tJX1MQlPlqiwlO...|  male| 28|     US|        90| 25672786|spotify:artist:0Y...|\n",
      "|      The Weeknd|1Xyo4u8uXC1ZmMpat...|  male| 30|     CA|        93| 75945958|spotify:artist:1X...|\n",
      "|    XXXTENTACION|15UsOTVnJzReFVN1V...|  male| 20|     US|        84| 43832734|spotify:artist:15...|\n",
      "|   Billie Eilish|6qqNVTkY8uBg9cP3J...|female| 18|     US|        86| 89957369|spotify:artist:6q...|\n",
      "|The Chainsmokers|69GGBxA162lTqCwzJ...| mixed|  8|     US|        78| 20578073|spotify:artist:69...|\n",
      "|        Anuel AA|2R21vXR83lH98kGeO...|  male| 27|     PR|        85| 34229041|spotify:artist:2R...|\n",
      "|       Nicky Jam|1SupJlEpv7RS2tPNR...|  male| 40|     PR|        78| 19298697|spotify:artist:1S...|\n",
      "|          Maluma|1r4hJ1h58CWwUQe3M...|  male| 26|     CO|        83| 34757640|spotify:artist:1r...|\n",
      "|  Camila Cabello|4nDoRrQiYLoBzwC5B...|female| 23|     US|        78| 32327077|spotify:artist:4n...|\n",
      "|        Dua Lipa|6M2wZ9GZgrQXHCFfj...|female| 24|     GB|        85| 42549278|spotify:artist:6M...|\n",
      "+----------------+--------------------+------+---+-------+----------+---------+--------------------+\n",
      "only showing top 20 rows\n",
      "\n",
      "+----------------+--------------------+------+---+-------+----------+---------+--------------------+\n",
      "|            Name|                  ID|Gender|Age|Country|Popularity|Followers|                 URI|\n",
      "+----------------+--------------------+------+---+-------+----------+---------+--------------------+\n",
      "|           Drake|3TVXtAsR1Inumwj47...|  male| 33|     CA|        95| 83298497|spotify:artist:3T...|\n",
      "|     Post Malone|246dkjvS1zLTtiykX...|  male| 25|     US|        86| 43130108|spotify:artist:24...|\n",
      "|      Ed Sheeran|6eUKZXaKkcviH0Ku9...|  male| 29|     GB|        87|115998928|spotify:artist:6e...|\n",
      "|        J Balvin|1vyhD5VmyZ7KMfW5g...|  male| 35|     CO|        83| 38028010|spotify:artist:1v...|\n",
      "|       Bad Bunny|4q3ewBCX7sLwd24eu...|  male| 26|     PR|        95| 77931484|spotify:artist:4q...|\n",
      "|   Justin Bieber|1uNFoZAHBGtllmzzn...|  male| 26|     CA|        88| 75112165|spotify:artist:1u...|\n",
      "|           Ozuna|1i8SpTcr7yvPOmcqr...|  male| 28|     PR|        84| 38192380|spotify:artist:1i...|\n",
      "|   Ariana Grande|66CXWjxzNUsdJxJ2J...|female| 27|     US|        88| 95710972|spotify:artist:66...|\n",
      "|          Khalid|6LuN9FCkKOj5Pcnpo...|  male| 22|     US|        81| 16282583|spotify:artist:6L...|\n",
      "|    Daddy Yankee|4VMYDCV2IEDYJArk7...|  male| 43|     PR|        84| 34243502|spotify:artist:4V...|\n",
      "|    Travis Scott|0Y5tJX1MQlPlqiwlO...|  male| 28|     US|        90| 25672786|spotify:artist:0Y...|\n",
      "|      The Weeknd|1Xyo4u8uXC1ZmMpat...|  male| 30|     CA|        93| 75945958|spotify:artist:1X...|\n",
      "|    XXXTENTACION|15UsOTVnJzReFVN1V...|  male| 20|     US|        84| 43832734|spotify:artist:15...|\n",
      "|   Billie Eilish|6qqNVTkY8uBg9cP3J...|female| 18|     US|        86| 89957369|spotify:artist:6q...|\n",
      "|The Chainsmokers|69GGBxA162lTqCwzJ...| mixed|  8|     US|        78| 20578073|spotify:artist:69...|\n",
      "|        Anuel AA|2R21vXR83lH98kGeO...|  male| 27|     PR|        85| 34229041|spotify:artist:2R...|\n",
      "|       Nicky Jam|1SupJlEpv7RS2tPNR...|  male| 40|     PR|        78| 19298697|spotify:artist:1S...|\n",
      "|          Maluma|1r4hJ1h58CWwUQe3M...|  male| 26|     CO|        83| 34757640|spotify:artist:1r...|\n",
      "|  Camila Cabello|4nDoRrQiYLoBzwC5B...|female| 23|     US|        78| 32327077|spotify:artist:4n...|\n",
      "|        Dua Lipa|6M2wZ9GZgrQXHCFfj...|female| 24|     GB|        85| 42549278|spotify:artist:6M...|\n",
      "+----------------+--------------------+------+---+-------+----------+---------+--------------------+\n",
      "only showing top 20 rows\n",
      "\n"
     ]
    }
   ],
   "source": [
    "from pyspark.sql.types import StructField, StructType, IntegerType,StringType\n",
    "df_csv = session.read.csv('Artists.csv',header=True,inferSchema=True)\n",
    "df_csv.show()\n",
    "\n",
    "schema = StructType([\n",
    "    StructField('Name',StringType(),True),\n",
    "    StructField('ID',StringType(),True),\n",
    "    StructField('Gender',StringType(),True),\n",
    "    StructField('Age',IntegerType(),True),    \n",
    "    StructField('Country',StringType(),True),\n",
    "    StructField('Popularity',IntegerType(),True),    \n",
    "    StructField('Followers',IntegerType(),True),    \n",
    "    StructField('URI',StringType(),True),    \n",
    "])\n",
    "\n",
    "df_csv2 = session.read.option('header',True).schema(schema).csv('Artists.csv')\n",
    "df_csv2.show()"
   ]
  },
  {
   "cell_type": "code",
   "execution_count": 11,
   "metadata": {},
   "outputs": [
    {
     "name": "stdout",
     "output_type": "stream",
     "text": [
      "+----------------+--------------------+------+---+-------+----------+---------+--------------------+\n",
      "|     Artist Name|                U_ID|Gender|Age|Country|Popularity|Followers|                 URI|\n",
      "+----------------+--------------------+------+---+-------+----------+---------+--------------------+\n",
      "|           Drake|3TVXtAsR1Inumwj47...|  male| 33|     CA|        95| 83298497|spotify:artist:3T...|\n",
      "|     Post Malone|246dkjvS1zLTtiykX...|  male| 25|     US|        86| 43130108|spotify:artist:24...|\n",
      "|      Ed Sheeran|6eUKZXaKkcviH0Ku9...|  male| 29|     GB|        87|115998928|spotify:artist:6e...|\n",
      "|        J Balvin|1vyhD5VmyZ7KMfW5g...|  male| 35|     CO|        83| 38028010|spotify:artist:1v...|\n",
      "|       Bad Bunny|4q3ewBCX7sLwd24eu...|  male| 26|     PR|        95| 77931484|spotify:artist:4q...|\n",
      "|   Justin Bieber|1uNFoZAHBGtllmzzn...|  male| 26|     CA|        88| 75112165|spotify:artist:1u...|\n",
      "|           Ozuna|1i8SpTcr7yvPOmcqr...|  male| 28|     PR|        84| 38192380|spotify:artist:1i...|\n",
      "|   Ariana Grande|66CXWjxzNUsdJxJ2J...|female| 27|     US|        88| 95710972|spotify:artist:66...|\n",
      "|          Khalid|6LuN9FCkKOj5Pcnpo...|  male| 22|     US|        81| 16282583|spotify:artist:6L...|\n",
      "|    Daddy Yankee|4VMYDCV2IEDYJArk7...|  male| 43|     PR|        84| 34243502|spotify:artist:4V...|\n",
      "|    Travis Scott|0Y5tJX1MQlPlqiwlO...|  male| 28|     US|        90| 25672786|spotify:artist:0Y...|\n",
      "|      The Weeknd|1Xyo4u8uXC1ZmMpat...|  male| 30|     CA|        93| 75945958|spotify:artist:1X...|\n",
      "|    XXXTENTACION|15UsOTVnJzReFVN1V...|  male| 20|     US|        84| 43832734|spotify:artist:15...|\n",
      "|   Billie Eilish|6qqNVTkY8uBg9cP3J...|female| 18|     US|        86| 89957369|spotify:artist:6q...|\n",
      "|The Chainsmokers|69GGBxA162lTqCwzJ...| mixed|  8|     US|        78| 20578073|spotify:artist:69...|\n",
      "|        Anuel AA|2R21vXR83lH98kGeO...|  male| 27|     PR|        85| 34229041|spotify:artist:2R...|\n",
      "|       Nicky Jam|1SupJlEpv7RS2tPNR...|  male| 40|     PR|        78| 19298697|spotify:artist:1S...|\n",
      "|          Maluma|1r4hJ1h58CWwUQe3M...|  male| 26|     CO|        83| 34757640|spotify:artist:1r...|\n",
      "|  Camila Cabello|4nDoRrQiYLoBzwC5B...|female| 23|     US|        78| 32327077|spotify:artist:4n...|\n",
      "|        Dua Lipa|6M2wZ9GZgrQXHCFfj...|female| 24|     GB|        85| 42549278|spotify:artist:6M...|\n",
      "+----------------+--------------------+------+---+-------+----------+---------+--------------------+\n",
      "only showing top 20 rows\n",
      "\n"
     ]
    }
   ],
   "source": [
    "df_csv.withColumnsRenamed({'name':'Artist Name', 'ID':'U_ID'}).show()"
   ]
  },
  {
   "cell_type": "code",
   "execution_count": 12,
   "metadata": {},
   "outputs": [
    {
     "name": "stdout",
     "output_type": "stream",
     "text": [
      "+----------------+--------------------+------+---+-------+----------+---------+\n",
      "|            Name|                  ID|Gender|Age|Country|Popularity|Followers|\n",
      "+----------------+--------------------+------+---+-------+----------+---------+\n",
      "|           Drake|3TVXtAsR1Inumwj47...|  male| 33|     CA|        95| 83298497|\n",
      "|     Post Malone|246dkjvS1zLTtiykX...|  male| 25|     US|        86| 43130108|\n",
      "|      Ed Sheeran|6eUKZXaKkcviH0Ku9...|  male| 29|     GB|        87|115998928|\n",
      "|        J Balvin|1vyhD5VmyZ7KMfW5g...|  male| 35|     CO|        83| 38028010|\n",
      "|       Bad Bunny|4q3ewBCX7sLwd24eu...|  male| 26|     PR|        95| 77931484|\n",
      "|   Justin Bieber|1uNFoZAHBGtllmzzn...|  male| 26|     CA|        88| 75112165|\n",
      "|           Ozuna|1i8SpTcr7yvPOmcqr...|  male| 28|     PR|        84| 38192380|\n",
      "|   Ariana Grande|66CXWjxzNUsdJxJ2J...|female| 27|     US|        88| 95710972|\n",
      "|          Khalid|6LuN9FCkKOj5Pcnpo...|  male| 22|     US|        81| 16282583|\n",
      "|    Daddy Yankee|4VMYDCV2IEDYJArk7...|  male| 43|     PR|        84| 34243502|\n",
      "|    Travis Scott|0Y5tJX1MQlPlqiwlO...|  male| 28|     US|        90| 25672786|\n",
      "|      The Weeknd|1Xyo4u8uXC1ZmMpat...|  male| 30|     CA|        93| 75945958|\n",
      "|    XXXTENTACION|15UsOTVnJzReFVN1V...|  male| 20|     US|        84| 43832734|\n",
      "|   Billie Eilish|6qqNVTkY8uBg9cP3J...|female| 18|     US|        86| 89957369|\n",
      "|The Chainsmokers|69GGBxA162lTqCwzJ...| mixed|  8|     US|        78| 20578073|\n",
      "|        Anuel AA|2R21vXR83lH98kGeO...|  male| 27|     PR|        85| 34229041|\n",
      "|       Nicky Jam|1SupJlEpv7RS2tPNR...|  male| 40|     PR|        78| 19298697|\n",
      "|          Maluma|1r4hJ1h58CWwUQe3M...|  male| 26|     CO|        83| 34757640|\n",
      "|  Camila Cabello|4nDoRrQiYLoBzwC5B...|female| 23|     US|        78| 32327077|\n",
      "|        Dua Lipa|6M2wZ9GZgrQXHCFfj...|female| 24|     GB|        85| 42549278|\n",
      "+----------------+--------------------+------+---+-------+----------+---------+\n",
      "only showing top 20 rows\n",
      "\n"
     ]
    }
   ],
   "source": [
    "df_csv2.drop(\"URI\").show()"
   ]
  },
  {
   "cell_type": "code",
   "execution_count": 18,
   "metadata": {},
   "outputs": [
    {
     "data": {
      "text/plain": [
       "0"
      ]
     },
     "execution_count": 18,
     "metadata": {},
     "output_type": "execute_result"
    }
   ],
   "source": [
    "df_csv2.filter(df_csv2.Age.isNull()).count()"
   ]
  },
  {
   "cell_type": "code",
   "execution_count": 23,
   "metadata": {},
   "outputs": [
    {
     "name": "stdout",
     "output_type": "stream",
     "text": [
      "+----------------+--------------------+------+---+-------+----------+---------+--------------------+\n",
      "|            Name|                  ID|Gender|Age|Country|Popularity|Followers|                 URI|\n",
      "+----------------+--------------------+------+---+-------+----------+---------+--------------------+\n",
      "|           Drake|3TVXtAsR1Inumwj47...|  male| 33|     CA|        95| 83298497|spotify:artist:3T...|\n",
      "|     Post Malone|246dkjvS1zLTtiykX...|  male| 25|     US|        86| 43130108|spotify:artist:24...|\n",
      "|      Ed Sheeran|6eUKZXaKkcviH0Ku9...|  male| 29|     GB|        87|115998928|spotify:artist:6e...|\n",
      "|        J Balvin|1vyhD5VmyZ7KMfW5g...|  male| 35|     CO|        83| 38028010|spotify:artist:1v...|\n",
      "|       Bad Bunny|4q3ewBCX7sLwd24eu...|  male| 26|     PR|        95| 77931484|spotify:artist:4q...|\n",
      "|   Justin Bieber|1uNFoZAHBGtllmzzn...|  male| 26|     CA|        88| 75112165|spotify:artist:1u...|\n",
      "|           Ozuna|1i8SpTcr7yvPOmcqr...|  male| 28|     PR|        84| 38192380|spotify:artist:1i...|\n",
      "|   Ariana Grande|66CXWjxzNUsdJxJ2J...|female| 27|     US|        88| 95710972|spotify:artist:66...|\n",
      "|          Khalid|6LuN9FCkKOj5Pcnpo...|  male| 22|     US|        81| 16282583|spotify:artist:6L...|\n",
      "|    Daddy Yankee|4VMYDCV2IEDYJArk7...|  male| 43|     PR|        84| 34243502|spotify:artist:4V...|\n",
      "|    Travis Scott|0Y5tJX1MQlPlqiwlO...|  male| 28|     US|        90| 25672786|spotify:artist:0Y...|\n",
      "|      The Weeknd|1Xyo4u8uXC1ZmMpat...|  male| 30|     CA|        93| 75945958|spotify:artist:1X...|\n",
      "|    XXXTENTACION|15UsOTVnJzReFVN1V...|  male| 20|     US|        84| 43832734|spotify:artist:15...|\n",
      "|   Billie Eilish|6qqNVTkY8uBg9cP3J...|female| 18|     US|        86| 89957369|spotify:artist:6q...|\n",
      "|The Chainsmokers|69GGBxA162lTqCwzJ...| mixed|  8|     US|        78| 20578073|spotify:artist:69...|\n",
      "|        Anuel AA|2R21vXR83lH98kGeO...|  male| 27|     PR|        85| 34229041|spotify:artist:2R...|\n",
      "|       Nicky Jam|1SupJlEpv7RS2tPNR...|  male| 40|     PR|        78| 19298697|spotify:artist:1S...|\n",
      "|          Maluma|1r4hJ1h58CWwUQe3M...|  male| 26|     CO|        83| 34757640|spotify:artist:1r...|\n",
      "|  Camila Cabello|4nDoRrQiYLoBzwC5B...|female| 23|     US|        78| 32327077|spotify:artist:4n...|\n",
      "|        Dua Lipa|6M2wZ9GZgrQXHCFfj...|female| 24|     GB|        85| 42549278|spotify:artist:6M...|\n",
      "+----------------+--------------------+------+---+-------+----------+---------+--------------------+\n",
      "only showing top 20 rows\n",
      "\n"
     ]
    }
   ],
   "source": [
    "df_csv2.createOrReplaceTempView('temp_data')\n",
    "session.sql('select * from temp_data').show()"
   ]
  },
  {
   "cell_type": "code",
   "execution_count": 21,
   "metadata": {},
   "outputs": [
    {
     "name": "stdout",
     "output_type": "stream",
     "text": [
      "+----------------+--------------------+------+---+-------+----------+---------+--------------------+----------------+--------------------+------+---+-------+----------+---------+--------------------+\n",
      "|            Name|                  ID|Gender|Age|Country|Popularity|Followers|                 URI|            Name|                  ID|Gender|Age|Country|Popularity|Followers|                 URI|\n",
      "+----------------+--------------------+------+---+-------+----------+---------+--------------------+----------------+--------------------+------+---+-------+----------+---------+--------------------+\n",
      "|           Drake|3TVXtAsR1Inumwj47...|  male| 33|     CA|        95| 83298497|spotify:artist:3T...|           Drake|3TVXtAsR1Inumwj47...|  male| 33|     CA|        95| 83298497|spotify:artist:3T...|\n",
      "|     Post Malone|246dkjvS1zLTtiykX...|  male| 25|     US|        86| 43130108|spotify:artist:24...|     Post Malone|246dkjvS1zLTtiykX...|  male| 25|     US|        86| 43130108|spotify:artist:24...|\n",
      "|      Ed Sheeran|6eUKZXaKkcviH0Ku9...|  male| 29|     GB|        87|115998928|spotify:artist:6e...|      Ed Sheeran|6eUKZXaKkcviH0Ku9...|  male| 29|     GB|        87|115998928|spotify:artist:6e...|\n",
      "|        J Balvin|1vyhD5VmyZ7KMfW5g...|  male| 35|     CO|        83| 38028010|spotify:artist:1v...|        J Balvin|1vyhD5VmyZ7KMfW5g...|  male| 35|     CO|        83| 38028010|spotify:artist:1v...|\n",
      "|       Bad Bunny|4q3ewBCX7sLwd24eu...|  male| 26|     PR|        95| 77931484|spotify:artist:4q...|       Bad Bunny|4q3ewBCX7sLwd24eu...|  male| 26|     PR|        95| 77931484|spotify:artist:4q...|\n",
      "|   Justin Bieber|1uNFoZAHBGtllmzzn...|  male| 26|     CA|        88| 75112165|spotify:artist:1u...|   Justin Bieber|1uNFoZAHBGtllmzzn...|  male| 26|     CA|        88| 75112165|spotify:artist:1u...|\n",
      "|           Ozuna|1i8SpTcr7yvPOmcqr...|  male| 28|     PR|        84| 38192380|spotify:artist:1i...|           Ozuna|1i8SpTcr7yvPOmcqr...|  male| 28|     PR|        84| 38192380|spotify:artist:1i...|\n",
      "|   Ariana Grande|66CXWjxzNUsdJxJ2J...|female| 27|     US|        88| 95710972|spotify:artist:66...|   Ariana Grande|66CXWjxzNUsdJxJ2J...|female| 27|     US|        88| 95710972|spotify:artist:66...|\n",
      "|          Khalid|6LuN9FCkKOj5Pcnpo...|  male| 22|     US|        81| 16282583|spotify:artist:6L...|          Khalid|6LuN9FCkKOj5Pcnpo...|  male| 22|     US|        81| 16282583|spotify:artist:6L...|\n",
      "|    Daddy Yankee|4VMYDCV2IEDYJArk7...|  male| 43|     PR|        84| 34243502|spotify:artist:4V...|    Daddy Yankee|4VMYDCV2IEDYJArk7...|  male| 43|     PR|        84| 34243502|spotify:artist:4V...|\n",
      "|    Travis Scott|0Y5tJX1MQlPlqiwlO...|  male| 28|     US|        90| 25672786|spotify:artist:0Y...|    Travis Scott|0Y5tJX1MQlPlqiwlO...|  male| 28|     US|        90| 25672786|spotify:artist:0Y...|\n",
      "|      The Weeknd|1Xyo4u8uXC1ZmMpat...|  male| 30|     CA|        93| 75945958|spotify:artist:1X...|      The Weeknd|1Xyo4u8uXC1ZmMpat...|  male| 30|     CA|        93| 75945958|spotify:artist:1X...|\n",
      "|    XXXTENTACION|15UsOTVnJzReFVN1V...|  male| 20|     US|        84| 43832734|spotify:artist:15...|    XXXTENTACION|15UsOTVnJzReFVN1V...|  male| 20|     US|        84| 43832734|spotify:artist:15...|\n",
      "|   Billie Eilish|6qqNVTkY8uBg9cP3J...|female| 18|     US|        86| 89957369|spotify:artist:6q...|   Billie Eilish|6qqNVTkY8uBg9cP3J...|female| 18|     US|        86| 89957369|spotify:artist:6q...|\n",
      "|The Chainsmokers|69GGBxA162lTqCwzJ...| mixed|  8|     US|        78| 20578073|spotify:artist:69...|The Chainsmokers|69GGBxA162lTqCwzJ...| mixed|  8|     US|        78| 20578073|spotify:artist:69...|\n",
      "|        Anuel AA|2R21vXR83lH98kGeO...|  male| 27|     PR|        85| 34229041|spotify:artist:2R...|        Anuel AA|2R21vXR83lH98kGeO...|  male| 27|     PR|        85| 34229041|spotify:artist:2R...|\n",
      "|       Nicky Jam|1SupJlEpv7RS2tPNR...|  male| 40|     PR|        78| 19298697|spotify:artist:1S...|       Nicky Jam|1SupJlEpv7RS2tPNR...|  male| 40|     PR|        78| 19298697|spotify:artist:1S...|\n",
      "|          Maluma|1r4hJ1h58CWwUQe3M...|  male| 26|     CO|        83| 34757640|spotify:artist:1r...|          Maluma|1r4hJ1h58CWwUQe3M...|  male| 26|     CO|        83| 34757640|spotify:artist:1r...|\n",
      "|  Camila Cabello|4nDoRrQiYLoBzwC5B...|female| 23|     US|        78| 32327077|spotify:artist:4n...|  Camila Cabello|4nDoRrQiYLoBzwC5B...|female| 23|     US|        78| 32327077|spotify:artist:4n...|\n",
      "|        Dua Lipa|6M2wZ9GZgrQXHCFfj...|female| 24|     GB|        85| 42549278|spotify:artist:6M...|        Dua Lipa|6M2wZ9GZgrQXHCFfj...|female| 24|     GB|        85| 42549278|spotify:artist:6M...|\n",
      "+----------------+--------------------+------+---+-------+----------+---------+--------------------+----------------+--------------------+------+---+-------+----------+---------+--------------------+\n",
      "only showing top 20 rows\n",
      "\n"
     ]
    }
   ],
   "source": [
    "df_join = df_csv2.join(df_csv2, df_csv2[\"ID\"] == df_csv2[\"ID\"], \"inner\")\n",
    "df_join.show()"
   ]
  },
  {
   "cell_type": "code",
   "execution_count": 32,
   "metadata": {},
   "outputs": [
    {
     "data": {
      "text/plain": [
       "196"
      ]
     },
     "execution_count": 32,
     "metadata": {},
     "output_type": "execute_result"
    }
   ],
   "source": [
    "df_csv2.union(df_csv2).count()"
   ]
  }
 ],
 "metadata": {
  "kernelspec": {
   "display_name": "py310_env",
   "language": "python",
   "name": "python3"
  },
  "language_info": {
   "codemirror_mode": {
    "name": "ipython",
    "version": 3
   },
   "file_extension": ".py",
   "mimetype": "text/x-python",
   "name": "python",
   "nbconvert_exporter": "python",
   "pygments_lexer": "ipython3",
   "version": "3.9.19"
  }
 },
 "nbformat": 4,
 "nbformat_minor": 2
}
